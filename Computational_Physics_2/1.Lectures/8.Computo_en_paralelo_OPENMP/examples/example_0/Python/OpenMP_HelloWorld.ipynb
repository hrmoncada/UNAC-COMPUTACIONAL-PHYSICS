{
  "nbformat": 4,
  "nbformat_minor": 0,
  "metadata": {
    "colab": {
      "provenance": []
    },
    "kernelspec": {
      "name": "python3",
      "display_name": "Python 3"
    },
    "language_info": {
      "name": "python"
    }
  },
  "cells": [
    {
      "cell_type": "code",
      "source": [
        "#Creamos el archivo .cpp\n",
        "%%writefile HelloWorld.cpp\n",
        "#include <stdio.h>\n",
        "#include <iostream>\n",
        "\n",
        "//OpenMP\n",
        "#include <omp.h>\n",
        "\n",
        "int main(void) {\n",
        "\t//FILE* fp = fopen(\"output.txt\", \"w\");\n",
        "\tint nthreads, tid;\n",
        "\n",
        "\tomp_set_num_threads(24);\n",
        "\n",
        "\t/*Se hace el Fork para generar los hilos y sus propias copias de variables*/\n",
        "#pragma omp parallel private(tid)\n",
        "\t{\n",
        "\t\t/*Se obtiene y se imprime el id de los hilos generados*/\n",
        "\t\ttid = omp_get_thread_num();\n",
        "\t\tprintf(\"Hola Mundo, soy el Hilo = %d\\n\", tid);\n",
        "\t\t//fprintf(fp,\"Hola Mundo, soy el Hilo = %d\\n\", tid);\n",
        "\n",
        "\t\t/*Unicamente el hilo con id==0 hace esto*/\n",
        "\t\tif (tid == 0) {\n",
        "\t\t\tnthreads = omp_get_num_threads();\n",
        "\t\t\tprintf(\"Numero de hilos = %d\\n\", nthreads);\n",
        "\t\t\t//fprintf(fp,\"Numero de hilos = %d\\n\", nthreads);\n",
        "\t\t}\n",
        "\t}  /* Todos los hilos se sincronizan y terminan aqui con Join */\n",
        "\t//fclose(fp);\n",
        "\treturn(0);\n",
        "}\n"
      ],
      "metadata": {
        "colab": {
          "base_uri": "https://localhost:8080/"
        },
        "id": "BIHkjj-mUX73",
        "outputId": "75be1496-a11d-4739-a2be-7b871316ed4b"
      },
      "execution_count": null,
      "outputs": [
        {
          "output_type": "stream",
          "name": "stdout",
          "text": [
            "Writing HelloWorld.cpp\n"
          ]
        }
      ]
    },
    {
      "cell_type": "markdown",
      "source": [
        "# Ejemplo: OpenMP - \"Hello World\" en C/C++"
      ],
      "metadata": {
        "id": "Z5jQU8A7UQHX"
      }
    },
    {
      "cell_type": "code",
      "source": [
        "#Compilamos el programa\n",
        "! g++ -fopenmp HelloWorld.cpp -o HelloWorld"
      ],
      "metadata": {
        "id": "W-BJAB16VYNo"
      },
      "execution_count": null,
      "outputs": []
    },
    {
      "cell_type": "code",
      "source": [
        "#! %env OMP_NUM_THREADS=4\n",
        "import os\n",
        "# Para modificar el número de hilos a través de la variable de ambiente del sistema\n",
        "os.environ['OMP_NUM_THREADS'] = \"2\""
      ],
      "metadata": {
        "id": "E3qVhrUvXdfs"
      },
      "execution_count": null,
      "outputs": []
    },
    {
      "cell_type": "code",
      "source": [
        "# Ejecutamos el programa\n",
        "! ./HelloWorld"
      ],
      "metadata": {
        "colab": {
          "base_uri": "https://localhost:8080/"
        },
        "id": "f5ftV9bDWIAo",
        "outputId": "21f2a431-e08c-4cda-ed98-366211ef786e"
      },
      "execution_count": null,
      "outputs": [
        {
          "output_type": "stream",
          "name": "stdout",
          "text": [
            "Hola Mundo, soy el Hilo = 4\n",
            "Hola Mundo, soy el Hilo = 5\n",
            "Hola Mundo, soy el Hilo = 6\n",
            "Hola Mundo, soy el Hilo = 7\n",
            "Hola Mundo, soy el Hilo = 8\n",
            "Hola Mundo, soy el Hilo = 9\n",
            "Hola Mundo, soy el Hilo = 10\n",
            "Hola Mundo, soy el Hilo = 11\n",
            "Hola Mundo, soy el Hilo = 12\n",
            "Hola Mundo, soy el Hilo = 13\n",
            "Hola Mundo, soy el Hilo = 14\n",
            "Hola Mundo, soy el Hilo = 15\n",
            "Hola Mundo, soy el Hilo = 16\n",
            "Hola Mundo, soy el Hilo = 17\n",
            "Hola Mundo, soy el Hilo = 18\n",
            "Hola Mundo, soy el Hilo = 1\n",
            "Hola Mundo, soy el Hilo = 2\n",
            "Hola Mundo, soy el Hilo = 3\n",
            "Hola Mundo, soy el Hilo = 19\n",
            "Hola Mundo, soy el Hilo = 0\n",
            "Numero de hilos = 24\n",
            "Hola Mundo, soy el Hilo = 20\n",
            "Hola Mundo, soy el Hilo = 21\n",
            "Hola Mundo, soy el Hilo = 22\n",
            "Hola Mundo, soy el Hilo = 23\n"
          ]
        }
      ]
    },
    {
      "cell_type": "code",
      "source": [
        "! lscpu"
      ],
      "metadata": {
        "colab": {
          "base_uri": "https://localhost:8080/"
        },
        "id": "ZV9QCm4RWQIH",
        "outputId": "328f926d-bb7f-4361-a0fe-dbabc2970186"
      },
      "execution_count": null,
      "outputs": [
        {
          "output_type": "stream",
          "name": "stdout",
          "text": [
            "Architecture:            x86_64\n",
            "  CPU op-mode(s):        32-bit, 64-bit\n",
            "  Address sizes:         46 bits physical, 48 bits virtual\n",
            "  Byte Order:            Little Endian\n",
            "CPU(s):                  2\n",
            "  On-line CPU(s) list:   0,1\n",
            "Vendor ID:               GenuineIntel\n",
            "  Model name:            Intel(R) Xeon(R) CPU @ 2.20GHz\n",
            "    CPU family:          6\n",
            "    Model:               79\n",
            "    Thread(s) per core:  2\n",
            "    Core(s) per socket:  1\n",
            "    Socket(s):           1\n",
            "    Stepping:            0\n",
            "    BogoMIPS:            4399.99\n",
            "    Flags:               fpu vme de pse tsc msr pae mce cx8 apic sep mtrr pge mca cmov pat pse36 clf\n",
            "                         lush mmx fxsr sse sse2 ss ht syscall nx pdpe1gb rdtscp lm constant_tsc rep_\n",
            "                         good nopl xtopology nonstop_tsc cpuid tsc_known_freq pni pclmulqdq ssse3 fm\n",
            "                         a cx16 pcid sse4_1 sse4_2 x2apic movbe popcnt aes xsave avx f16c rdrand hyp\n",
            "                         ervisor lahf_lm abm 3dnowprefetch invpcid_single ssbd ibrs ibpb stibp fsgsb\n",
            "                         ase tsc_adjust bmi1 hle avx2 smep bmi2 erms invpcid rtm rdseed adx smap xsa\n",
            "                         veopt arat md_clear arch_capabilities\n",
            "Virtualization features: \n",
            "  Hypervisor vendor:     KVM\n",
            "  Virtualization type:   full\n",
            "Caches (sum of all):     \n",
            "  L1d:                   32 KiB (1 instance)\n",
            "  L1i:                   32 KiB (1 instance)\n",
            "  L2:                    256 KiB (1 instance)\n",
            "  L3:                    55 MiB (1 instance)\n",
            "NUMA:                    \n",
            "  NUMA node(s):          1\n",
            "  NUMA node0 CPU(s):     0,1\n",
            "Vulnerabilities:         \n",
            "  Itlb multihit:         Not affected\n",
            "  L1tf:                  Mitigation; PTE Inversion\n",
            "  Mds:                   Vulnerable; SMT Host state unknown\n",
            "  Meltdown:              Vulnerable\n",
            "  Mmio stale data:       Vulnerable\n",
            "  Retbleed:              Vulnerable\n",
            "  Spec store bypass:     Vulnerable\n",
            "  Spectre v1:            Vulnerable: __user pointer sanitization and usercopy barriers only; no swap\n",
            "                         gs barriers\n",
            "  Spectre v2:            Vulnerable, IBPB: disabled, STIBP: disabled, PBRSB-eIBRS: Not affected\n",
            "  Srbds:                 Not affected\n",
            "  Tsx async abort:       Vulnerable\n"
          ]
        }
      ]
    }
  ]
}
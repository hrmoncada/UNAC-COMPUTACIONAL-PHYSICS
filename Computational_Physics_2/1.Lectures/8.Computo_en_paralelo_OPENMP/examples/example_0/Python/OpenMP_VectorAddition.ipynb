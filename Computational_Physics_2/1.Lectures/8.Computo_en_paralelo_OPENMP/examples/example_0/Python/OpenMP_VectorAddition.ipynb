{
  "nbformat": 4,
  "nbformat_minor": 0,
  "metadata": {
    "colab": {
      "provenance": [],
      "gpuType": "T4"
    },
    "kernelspec": {
      "name": "python3",
      "display_name": "Python 3"
    },
    "language_info": {
      "name": "python"
    },
    "accelerator": "GPU"
  },
  "cells": [
    {
      "cell_type": "markdown",
      "source": [
        "# Suma de Vectores"
      ],
      "metadata": {
        "id": "6kOCadgrIafW"
      }
    },
    {
      "cell_type": "code",
      "source": [
        "#Creamos el archivo .cpp\n",
        "%%writefile SumaVectores.cpp\n",
        "/*\n",
        "PROGRAMA:            SumaVectores_OpenMP.cpp\n",
        "DESCRIPCIÓN:         Suma dos vectores con tipo de dato float y almacena el resultado\n",
        "                     en un tercer vector del mismo tipo.\n",
        "\t\t\t               Paralelizamos la suma usando directivas de OpenMP.\n",
        "AUTOR:               Francisco J. Hernández-López\n",
        "Fecha Inicial:       16/Mar/2016\n",
        "Fecha Actualización: 19/Oct/2023 Probándo el código en Google Colab\n",
        "*/\n",
        "\n",
        "#include <stdio.h>\n",
        "#include <stdlib.h>\n",
        "#include <iostream>\n",
        "#include <math.h>\n",
        "#include <time.h>\n",
        "//OpenMP\n",
        "#include <omp.h>\n",
        "\n",
        "void Suma_vectores(float *c, float *a, float *b, long int N)\n",
        "{\n",
        "\tlong int i;\n",
        "#pragma omp parallel shared(a,b,c,N) private(i)\n",
        "\t{\n",
        "#pragma omp for\n",
        "\t\tfor (i = 0; i<N; i++){\n",
        "\t\t\t//c[i] = a[i] + b[i];\n",
        "\t\t\tc[i] = cos(a[i]) + (int)(b[i])%3;\n",
        "\t\t}\n",
        "\t}\n",
        "}\n",
        "\n",
        "// Código principal que se ejecuta en el Host\n",
        "int main(void){\n",
        "\tfloat *a_h, *b_h, *c_h; //Punteros a arreglos en el Host\n",
        "\tlong int N = 1000000000; //Número de elementos en los arreglos\n",
        "\tlong int i;\n",
        "\t//struct timeb start, end;\n",
        "\tdouble t_ini, t_fin, time_cpu_seconds;\n",
        "\n",
        "\tint diff;\n",
        "\tsize_t size_float = N * sizeof(float);\n",
        "\ta_h = (float *)malloc(size_float); // Pedimos memoria en el Host\n",
        "\tb_h = (float *)malloc(size_float);\n",
        "\tc_h = (float *)malloc(size_float); //También se puede con cudaMallocHost\n",
        "\n",
        "\tomp_set_num_threads(2); //Fijamos cuantos hilos vamos a lanzar\n",
        "\n",
        "\t//Inicializamos los arreglos a,b en el Host\n",
        "/*#pragma omp parallel shared(a_h,b_h,N) private(i)\n",
        "\t{\n",
        "#pragma omp for*/\n",
        "\t\tfor (i = 0; i<N; i++){\n",
        "\t\t\ta_h[i] = (float)i;\n",
        "\t\t\tb_h[i] = (float)(i + 1);\n",
        "\t\t}\n",
        "\t//}\n",
        "\n",
        "\tprintf(\"\\nArreglo a:\\n\");\n",
        "\tfor (i=0; i<20; i++) printf(\"%f \", a_h[i]);\n",
        "\tprintf(\"\\n\\nArreglo b:\\n\");\n",
        "\tfor (i=0; i<20; i++) printf(\"%f \", b_h[i]);\n",
        "\n",
        "\tprintf(\"\\n\\nComenzando el procesamiento...\");\n",
        "\tt_ini = clock();\n",
        "\tSuma_vectores(c_h, a_h, b_h, N);\n",
        "\tt_fin = clock();\n",
        "\ttime_cpu_seconds = (t_fin - t_ini) / CLOCKS_PER_SEC;\n",
        "\n",
        "\t//Resultado\n",
        "\tprintf(\"\\n\\nArreglo c:\\n\");\n",
        "\tfor (i = 0; i<20; i++)\n",
        "\t\tprintf(\"%f \", c_h[i]);\n",
        "\n",
        "\tprintf(\"\\nProcesamiento Finalizado...\");\n",
        "\tprintf(\"\\nTiempo de procesamiento en CPU: %lf segundos.\\n\", time_cpu_seconds);\n",
        "\n",
        "\t// Liberamos la memoria del Host\n",
        "\tfree(a_h);\n",
        "\tfree(b_h);\n",
        "\tfree(c_h);\n",
        "\treturn(0);\n",
        "}"
      ],
      "metadata": {
        "colab": {
          "base_uri": "https://localhost:8080/"
        },
        "id": "RMIeBEBzIffe",
        "outputId": "792b2988-33aa-49f3-9c04-ae8706b9083c"
      },
      "execution_count": null,
      "outputs": [
        {
          "output_type": "stream",
          "name": "stdout",
          "text": [
            "Overwriting SumaVectores.cpp\n"
          ]
        }
      ]
    },
    {
      "cell_type": "code",
      "source": [
        "# Compilamos el programa\n",
        "! g++ SumaVectores.cpp -o SumaVectores_secuencial"
      ],
      "metadata": {
        "id": "AO3JjrxvJloD"
      },
      "execution_count": null,
      "outputs": []
    },
    {
      "cell_type": "code",
      "source": [
        "# Ejecutamos el programa\n",
        "! ./SumaVectores_secuencial"
      ],
      "metadata": {
        "colab": {
          "base_uri": "https://localhost:8080/"
        },
        "id": "ZiRGBoM6J9OU",
        "outputId": "4e176829-3506-4b45-95bc-50b3fb38e42f"
      },
      "execution_count": null,
      "outputs": [
        {
          "output_type": "stream",
          "name": "stdout",
          "text": [
            "\n",
            "Arreglo a:\n",
            "0.000000 1.000000 2.000000 3.000000 4.000000 5.000000 6.000000 7.000000 8.000000 9.000000 10.000000 11.000000 12.000000 13.000000 14.000000 15.000000 16.000000 17.000000 18.000000 19.000000 \n",
            "\n",
            "Arreglo b:\n",
            "1.000000 2.000000 3.000000 4.000000 5.000000 6.000000 7.000000 8.000000 9.000000 10.000000 11.000000 12.000000 13.000000 14.000000 15.000000 16.000000 17.000000 18.000000 19.000000 20.000000 \n",
            "\n",
            "Comenzando el procesamiento...\n",
            "\n",
            "Arreglo c:\n",
            "2.000000 2.540302 -0.416147 0.010008 1.346356 0.283662 1.960170 2.753902 -0.145500 0.088870 1.160928 0.004426 1.843854 2.907447 0.136737 0.240312 1.042341 -0.275163 1.660317 2.988705 \n",
            "Procesamiento Finalizado...\n",
            "Tiempo de procesamiento en CPU: 18.768764 segundos.\n"
          ]
        }
      ]
    },
    {
      "cell_type": "code",
      "source": [
        "# Compilamos el programa\n",
        "! g++ -fopenmp SumaVectores.cpp -o SumaVectores_paralelo"
      ],
      "metadata": {
        "id": "4HEbfTDaLF3x"
      },
      "execution_count": null,
      "outputs": []
    },
    {
      "cell_type": "code",
      "source": [
        "# Ejecutamos el programa\n",
        "! ./SumaVectores_paralelo"
      ],
      "metadata": {
        "colab": {
          "base_uri": "https://localhost:8080/"
        },
        "id": "FThMCUuNLOHQ",
        "outputId": "ad8e97a1-6fd9-4d2e-f671-08aed7b2d501"
      },
      "execution_count": null,
      "outputs": [
        {
          "output_type": "stream",
          "name": "stdout",
          "text": [
            "\n",
            "Arreglo a:\n",
            "0.000000 1.000000 2.000000 3.000000 4.000000 5.000000 6.000000 7.000000 8.000000 9.000000 10.000000 11.000000 12.000000 13.000000 14.000000 15.000000 16.000000 17.000000 18.000000 19.000000 \n",
            "\n",
            "Arreglo b:\n",
            "1.000000 2.000000 3.000000 4.000000 5.000000 6.000000 7.000000 8.000000 9.000000 10.000000 11.000000 12.000000 13.000000 14.000000 15.000000 16.000000 17.000000 18.000000 19.000000 20.000000 \n",
            "\n",
            "Comenzando el procesamiento...\n",
            "\n",
            "Arreglo c:\n",
            "2.000000 2.540302 -0.416147 0.010008 1.346356 0.283662 1.960170 2.753902 -0.145500 0.088870 1.160928 0.004426 1.843854 2.907447 0.136737 0.240312 1.042341 -0.275163 1.660317 2.988705 \n",
            "Procesamiento Finalizado...\n",
            "Tiempo de procesamiento en CPU: 26.820239 segundos.\n"
          ]
        }
      ]
    },
    {
      "cell_type": "code",
      "source": [
        "! lscpu"
      ],
      "metadata": {
        "colab": {
          "base_uri": "https://localhost:8080/"
        },
        "id": "xw_Crla41MS5",
        "outputId": "f1fe14d8-72e9-4469-8a06-7cf48a7e9509"
      },
      "execution_count": null,
      "outputs": [
        {
          "output_type": "stream",
          "name": "stdout",
          "text": [
            "Architecture:            x86_64\n",
            "  CPU op-mode(s):        32-bit, 64-bit\n",
            "  Address sizes:         46 bits physical, 48 bits virtual\n",
            "  Byte Order:            Little Endian\n",
            "CPU(s):                  2\n",
            "  On-line CPU(s) list:   0,1\n",
            "Vendor ID:               GenuineIntel\n",
            "  Model name:            Intel(R) Xeon(R) CPU @ 2.00GHz\n",
            "    CPU family:          6\n",
            "    Model:               85\n",
            "    Thread(s) per core:  2\n",
            "    Core(s) per socket:  1\n",
            "    Socket(s):           1\n",
            "    Stepping:            3\n",
            "    BogoMIPS:            4000.32\n",
            "    Flags:               fpu vme de pse tsc msr pae mce cx8 apic sep mtrr pge mca cmov pat pse36 clf\n",
            "                         lush mmx fxsr sse sse2 ss ht syscall nx pdpe1gb rdtscp lm constant_tsc rep_\n",
            "                         good nopl xtopology nonstop_tsc cpuid tsc_known_freq pni pclmulqdq ssse3 fm\n",
            "                         a cx16 pcid sse4_1 sse4_2 x2apic movbe popcnt aes xsave avx f16c rdrand hyp\n",
            "                         ervisor lahf_lm abm 3dnowprefetch invpcid_single ssbd ibrs ibpb stibp fsgsb\n",
            "                         ase tsc_adjust bmi1 hle avx2 smep bmi2 erms invpcid rtm mpx avx512f avx512d\n",
            "                         q rdseed adx smap clflushopt clwb avx512cd avx512bw avx512vl xsaveopt xsave\n",
            "                         c xgetbv1 xsaves arat md_clear arch_capabilities\n",
            "Virtualization features: \n",
            "  Hypervisor vendor:     KVM\n",
            "  Virtualization type:   full\n",
            "Caches (sum of all):     \n",
            "  L1d:                   32 KiB (1 instance)\n",
            "  L1i:                   32 KiB (1 instance)\n",
            "  L2:                    1 MiB (1 instance)\n",
            "  L3:                    38.5 MiB (1 instance)\n",
            "NUMA:                    \n",
            "  NUMA node(s):          1\n",
            "  NUMA node0 CPU(s):     0,1\n",
            "Vulnerabilities:         \n",
            "  Itlb multihit:         Not affected\n",
            "  L1tf:                  Mitigation; PTE Inversion\n",
            "  Mds:                   Vulnerable; SMT Host state unknown\n",
            "  Meltdown:              Vulnerable\n",
            "  Mmio stale data:       Vulnerable\n",
            "  Retbleed:              Vulnerable\n",
            "  Spec store bypass:     Vulnerable\n",
            "  Spectre v1:            Vulnerable: __user pointer sanitization and usercopy barriers only; no swap\n",
            "                         gs barriers\n",
            "  Spectre v2:            Vulnerable, IBPB: disabled, STIBP: disabled, PBRSB-eIBRS: Not affected\n",
            "  Srbds:                 Not affected\n",
            "  Tsx async abort:       Vulnerable\n"
          ]
        }
      ]
    },
    {
      "cell_type": "markdown",
      "source": [
        "# Mejor hay que probar el ejemplo en su propia computadora..."
      ],
      "metadata": {
        "id": "MqQRic96_EKV"
      }
    }
  ]
}